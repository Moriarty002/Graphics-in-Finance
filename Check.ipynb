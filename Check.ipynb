{
 "cells": [
  {
   "cell_type": "code",
   "execution_count": 11,
   "metadata": {},
   "outputs": [
    {
     "name": "stdout",
     "output_type": "stream",
     "text": "False\n"
    }
   ],
   "source": [
    "import Tools\n",
    "import pandas as pd\n",
    "import index_generate\n",
    "from PIL import Image\n",
    "import os\n",
    "\n",
    "#去除因FutureWarning 而無法顯示dataframe的bug，要執行兩次CELL ，我不知道怎麼解決...\n",
    "import warnings\n",
    "import numpy as np\n",
    "warnings.simplefilter(action='ignore', category=FutureWarning)\n",
    "print('x' in np.arange(5)) #returns False, without Warning\n",
    "'''\n",
    "importing Jupyter notebook from From_local_json.ipynb\n",
    "I:\\Python\\Anaconda\\envs\\stock\\lib\\site-packages\\pandas\\core\\ops\\__init__.py:1115: FutureWarning: elementwise comparison failed; returning scalar instead, but in the future will perform elementwise comparison\n",
    "  result = method(y)\n",
    "'''\n",
    "\n",
    "class buyer():\n",
    "    state = 0\n",
    "    fund = 2000000\n",
    "    stock = 0\n",
    "    total = fund + stock\n",
    "    stockcode = '0'\n",
    "\n",
    "    indexflag=0\n",
    "    df_raw=pd.DataFrame()\n",
    "    df_index=pd.DataFrame()\n",
    "    min_maxdf=pd.DataFrame()\n",
    "\n",
    "    List_ans=np.array(0)\n",
    "    List_price=np.array(0)\n",
    "\n",
    "\n",
    "    def __init__(self,stockcode):\n",
    "        self.stockcode=stockcode\n",
    "        self.df_raw,self.indexflag =Tools.checkCodeInDir(self.stockcode) #檢查是否在檔案中，並取得rawdata\n",
    "\n",
    "        if(self.indexflag==0):\n",
    "            self.df_index=index_generate.stock_index_generator(self.df_raw,self.stockcode)\n",
    "        else:\n",
    "            PATH_TO_STOCKDATA_INDEX = './stock_data_index/'\n",
    "            index_target = stockcode+'_index.json'\n",
    "            self.df_index = pd.read_json(PATH_TO_STOCKDATA_INDEX+index_target)\n",
    "        self.min_maxdf=index_generate.Normalize_pd(self.df_index)# 計算Normalize\n",
    "        self.List_ans, self.List_price=Tools.get_list_ans(self.stockcode)#計算label答案\n",
    "    \n",
    "    def getImg(self,index): #取得index 當天加上前18筆 共19筆資料的圖片\n",
    "        v=self.min_maxdf.to_numpy()\n",
    "        v=v.astype(np.float32)\n",
    "        traceback_Date=19\n",
    "        img = Image.fromarray(v[index-traceback_Date:index,:],'F')\n",
    "        img = img.convert('RGB')\n",
    "        return img\n",
    "\n",
    "    def saveImg(self,index):#取得index 當天加上前18筆 共19筆資料的圖片，並自動存檔\n",
    "        v=self.min_maxdf.to_numpy()\n",
    "        v=v.astype(np.float32)\n",
    "        traceback_Date=19\n",
    "        img=Image.fromarray(v[index-traceback_Date:index,:],'F')\n",
    "        date=str(self.df_raw['日期'][index]).replace(\"/\",\"\")\n",
    "                \n",
    "        DIRPATH=os.path.abspath('.')+'\\image_output\\\\'+self.stockcode+'\\\\'+str(self.List_ans[index])\n",
    "        try:\n",
    "            os.makedirs(DIRPATH)\n",
    "        except OSError:\n",
    "            pass\n",
    "\n",
    "        pwd=os.path.abspath('.').replace(\"\\\\\",\"/\")\n",
    "        pwd=pwd.replace(\"c:/\",\"C:/\")\n",
    "        PATH=pwd+'/image_output/'+self.stockcode+'/'+str(self.List_ans[index])+'/'\n",
    "        PATH=PATH.replace(\" \",\"\")\n",
    "        print(PATH)\n",
    "\n",
    "        img = img.convert('RGB')\n",
    "        img.save(PATH+date+'.jpg',\"JPEG\")\n",
    "        return img\n",
    "    \n",
    "    def get_ans_price(self):\n",
    "        return self.List_ans, self.List_price\n",
    "\n",
    "    def buystock(self,price):\n",
    "        self.stock=(self.fund/1.003)/price\n",
    "        self.fund=0\n",
    "        self.total=self.fund+(self.stock*price)\n",
    "        self.state=1\n",
    "        print(\"buy\")\n",
    "    def selstock(self,price):   \n",
    "        self.fund=self.stock*price*0.997\n",
    "        self.stock=0\n",
    "        self.total=self.fund+(self.stock*price)\n",
    "        self.state=0\n",
    "        print(\"sell\")\n",
    "    def holstock(self,price):\n",
    "        self.total=self.fund+(self.stock*price)\n",
    "        print(\"hold\")\n",
    "    def make_choice(self,inp,price):\n",
    "        if (self.state==0 and inp==1):\n",
    "            self.buystock(price)\n",
    "        elif(self.state==1 and inp==-1):\n",
    "            self.selstock(price)\n",
    "        else :\n",
    "            self.holstock(price)  \n",
    "\n",
    "\n",
    "   "
   ]
  },
  {
   "cell_type": "code",
   "execution_count": 12,
   "metadata": {},
   "outputs": [
    {
     "name": "stdout",
     "output_type": "stream",
     "text": "found data [0052.json]at : ./stock_data\nfound data [0052_index.json]at : ./stock_data_index\nhold\nhold\nhold\nhold\nbuy\nhold\nhold\nsell\nbuy\nsell\nhold\nbuy\nhold\nhold\nhold\nsell\nbuy\nsell\nbuy\nhold\nhold\nhold\nhold\nsell\nbuy\nsell\nhold\nhold\nbuy\nsell\nbuy\nsell\nbuy\nsell\nhold\nbuy\nhold\nhold\nhold\nsell\nhold\nhold\nbuy\nsell\nhold\nhold\nhold\nbuy\nhold\nsell\nhold\nbuy\nsell\nhold\nhold\nbuy\nhold\nsell\nbuy\nsell\nbuy\nsell\nbuy\nhold\nsell\nbuy\nsell\nhold\nhold\nhold\nhold\nbuy\nsell\nbuy\nhold\nhold\nhold\nsell\nhold\nhold\nhold\nbuy\nsell\nhold\nhold\nbuy\nhold\nhold\nsell\nbuy\nhold\nhold\nsell\nbuy\nsell\nhold\nbuy\nsell\nbuy\nhold\nhold\nsell\nbuy\nsell\nbuy\nsell\nbuy\nhold\nhold\nhold\nsell\nbuy\nsell\nhold\nhold\nbuy\nhold\nsell\nhold\nbuy\nsell\nhold\nhold\nhold\nhold\nbuy\nsell\nbuy\nhold\nhold\nsell\nhold\nbuy\nhold\nsell\nbuy\nsell\nbuy\nhold\nsell\nhold\nhold\nbuy\nhold\nhold\nsell\nhold\nhold\nhold\nbuy\nsell\nhold\nhold\nhold\nbuy\nsell\nhold\nhold\nbuy\nhold\nhold\nhold\nhold\nhold\nhold\nhold\nhold\nhold\nhold\nsell\nbuy\nsell\nhold\nbuy\nsell\nbuy\nsell\nhold\nbuy\nsell\nbuy\nhold\nsell\nbuy\nhold\nhold\nsell\nbuy\nhold\nhold\nsell\nbuy\nhold\nsell\nhold\nbuy\nsell\nbuy\nhold\nsell\nbuy\nhold\nsell\nbuy\nsell\nbuy\nhold\nsell\nbuy\nsell\nbuy\nsell\nbuy\nhold\nsell\nbuy\nsell\nhold\nhold\nbuy\nhold\nhold\nhold\nhold\nhold\nsell\nhold\nhold\nbuy\nhold\nsell\nbuy\nsell\nhold\nhold\nhold\nbuy\nhold\nhold\nhold\nsell\nbuy\nsell\nhold\nbuy\nhold\nhold\nhold\nhold\nsell\nhold\nbuy\nsell\nhold\nhold\nhold\nbuy\nsell\nbuy\nhold\nsell\nhold\nbuy\nhold\nsell\nhold\nbuy\nhold\nhold\nhold\nhold\nsell\nhold\nhold\nbuy\nsell\nbuy\nsell\nhold\nbuy\nhold\nsell\nhold\nbuy\nhold\nsell\nhold\nhold\nbuy\nhold\nsell\nbuy\nsell\nbuy\nhold\nsell\nhold\nhold\nbuy\nhold\nsell\nhold\nhold\nhold\nbuy\nhold\nhold\nhold\nhold\nsell\nbuy\nhold\nhold\nsell\nhold\nhold\nbuy\nhold\nsell\nhold\nhold\nbuy\nsell\nbuy\nsell\nhold\nbuy\nhold\nsell\nbuy\nhold\nsell\nbuy\nsell\nhold\nhold\nhold\nhold\nbuy\nsell\nhold\nhold\nbuy\nhold\nhold\nsell\nbuy\nsell\nhold\nhold\nbuy\nsell\nhold\nhold\nhold\nhold\nhold\nbuy\nsell\nbuy\nhold\nhold\nsell\nhold\nhold\nhold\nbuy\nsell\nhold\nbuy\nhold\nhold\nsell\nbuy\nsell\nhold\nhold\nbuy\nhold\nhold\nsell\nhold\nbuy\nhold\nsell\nbuy\nhold\nsell\nhold\nhold\nbuy\nhold\nsell\nbuy\nsell\nhold\nhold\nbuy\nhold\nhold\nhold\nhold\nsell\nbuy\nsell\nbuy\nsell\nhold\nbuy\nsell\nbuy\nhold\nsell\nbuy\nsell\nbuy\nsell\nbuy\nhold\nsell\nbuy\nsell\nbuy\nhold\nsell\nhold\nhold\nhold\nhold\nhold\nhold\nhold\nhold\nbuy\nhold\nhold\nhold\nsell\nhold\nhold\nhold\nhold\nhold\nbuy\nsell\nbuy\nsell\nhold\nhold\nbuy\nhold\nsell\nbuy\nsell\nhold\nbuy\nhold\nsell\nbuy\nhold\nsell\nbuy\nhold\nhold\nsell\nbuy\nsell\nbuy\nhold\nhold\nsell\nbuy\nsell\nbuy\nhold\nhold\nsell\nbuy\nhold\nsell\nbuy\nhold\nsell\nhold\nbuy\nsell\nhold\nbuy\nsell\nhold\nbuy\nhold\nhold\nsell\nhold\nhold\nbuy\nhold\nsell\nhold\nbuy\nhold\nsell\nbuy\nsell\nbuy\nhold\nhold\nsell\nhold\nbuy\nhold\nsell\nbuy\nsell\nhold\nhold\nbuy\nsell\nhold\nbuy\nhold\nhold\nsell\nhold\nbuy\nsell\nhold\nhold\nbuy\nhold\nsell\nbuy\nsell\nbuy\nsell\nbuy\nsell\nbuy\nsell\nhold\nbuy\nhold\nsell\nbuy\nsell\nbuy\nsell\nbuy\nsell\nbuy\nhold\nsell\nbuy\nsell\nhold\nbuy\nhold\nhold\nhold\nsell\nhold\nbuy\nsell\nbuy\nsell\nhold\nhold\nhold\nhold\nbuy\nsell\nhold\nbuy\nhold\nsell\nhold\nhold\nbuy\nsell\nhold\nbuy\nhold\nsell\nbuy\nsell\nhold\nbuy\nsell\nbuy\nhold\nsell\nbuy\nsell\nbuy\nhold\nhold\nsell\nbuy\nhold\nsell\nbuy\nsell\nhold\nhold\nhold\nbuy\nsell\nbuy\nhold\nhold\nsell\nhold\nbuy\nsell\nbuy\nsell\nhold\nbuy\nhold\nhold\nhold\nsell\nbuy\nsell\nhold\nbuy\nsell\nhold\nbuy\nsell\nhold\nbuy\nsell\nbuy\nsell\nhold\nbuy\nsell\nhold\nhold\nbuy\nsell\nhold\nbuy\nsell\nhold\nbuy\nhold\nsell\nbuy\nsell\nbuy\nhold\nsell\nbuy\nsell\nbuy\nhold\nsell\nbuy\nhold\nsell\nhold\nhold\nhold\nbuy\nhold\nsell\nbuy\nhold\nsell\nbuy\nhold\nhold\nhold\nsell\nbuy\nsell\nhold\nbuy\nhold\nsell\nhold\nhold\nbuy\nsell\nbuy\nhold\nhold\nhold\nhold\nhold\nhold\nsell\nbuy\nsell\nhold\nbuy\nsell\nbuy\nhold\nsell\nhold\nhold\nbuy\nsell\nbuy\nsell\nbuy\nsell\nbuy\nhold\nhold\nsell\nbuy\nsell\nhold\nbuy\nhold\nhold\nhold\nsell\nhold\nhold\nhold\nhold\nhold\nbuy\nsell\nbuy\nhold\nsell\nbuy\nsell\nhold\nbuy\nsell\nhold\nhold\nbuy\nsell\nbuy\nsell\nbuy\nsell\nbuy\nsell\nhold\nhold\nhold\nhold\nbuy\nhold\nsell\nbuy\nhold\nhold\nhold\nhold\nsell\nbuy\nhold\nhold\nhold\nhold\nsell\nbuy\nhold\nhold\nhold\nhold\nsell\nbuy\nhold\nsell\nbuy\nsell\nbuy\nsell\nhold\nhold\nbuy\nsell\nbuy\nsell\nhold\nhold\nbuy\nhold\nsell\nbuy\nhold\nsell\nhold\nhold\nbuy\nhold\nhold\nsell\nhold\nhold\nbuy\nhold\nhold\nsell\nbuy\nhold\nsell\nbuy\nhold\nhold\nsell\nbuy\nsell\nbuy\nsell\nhold\nbuy\nhold\nsell\nbuy\nsell\nhold\nhold\nhold\nhold\nbuy\nsell\nhold\nhold\nhold\nbuy\nhold\nhold\nhold\nsell\nhold\nhold\nbuy\nsell\nbuy\nsell\nbuy\nhold\nhold\nhold\nsell\nbuy\nhold\nhold\nsell\nbuy\nsell\nbuy\nhold\nsell\nbuy\nhold\nsell\nhold\nbuy\nsell\nbuy\nhold\nsell\nhold\nhold\nbuy\nsell\nbuy\nhold\nhold\nhold\nsell\nbuy\nhold\nhold\nsell\nbuy\nhold\nsell\nbuy\nsell\nhold\nhold\nhold\nhold\nhold\nhold\nbuy\nhold\nsell\nhold\nbuy\nhold\nhold\nhold\nhold\nsell\nhold\nbuy\nhold\nsell\nbuy\nhold\nhold\nsell\nhold\nhold\nhold\nbuy\nsell\nbuy\nhold\nhold\nsell\nbuy\nsell\nbuy\nhold\nhold\nsell\nhold\nbuy\nhold\nsell\nbuy\nhold\nsell\nbuy\nhold\nsell\nbuy\nsell\nhold\nbuy\nsell\nhold\nbuy\nhold\nhold\nhold\nhold\nhold\nhold\nhold\nhold\nsell\nhold\nbuy\nhold\nhold\nsell\nhold\nhold\nbuy\nhold\nhold\nhold\nsell\nbuy\nsell\nbuy\nsell\nhold\nbuy\nsell\nhold\nbuy\nsell\nbuy\nhold\nsell\nbuy\nsell\nbuy\nhold\nsell\nbuy\nhold\nsell\nbuy\nsell\nbuy\nhold\nhold\nhold\nhold\nhold\nhold\nhold\nsell\nbuy\nsell\nbuy\nsell\nbuy\nhold\nsell\nbuy\nhold\nsell\nbuy\nsell\nbuy\nhold\nsell\nbuy\nhold\nsell\nbuy\nhold\nhold\nsell\nhold\nhold\nbuy\nhold\nsell\nbuy\nhold\nhold\nsell\nhold\nbuy\nhold\nsell\nbuy\nhold\nsell\nbuy\nhold\nsell\nbuy\nhold\nsell\nbuy\nhold\nhold\nsell\nhold\nhold\nbuy\nsell\nbuy\nhold\nsell\nhold\nhold\nbuy\nhold\nhold\nsell\nhold\nhold\nhold\nhold\nbuy\nsell\nhold\nbuy\nsell\nhold\nbuy\nsell\nbuy\nsell\nhold\nbuy\nhold\nhold\nhold\nsell\nhold\nbuy\nsell\nbuy\nsell\nbuy\nsell\nhold\nhold\nhold\nhold\nhold\nhold\nhold\nhold\nhold\nbuy\nsell\nbuy\nsell\nbuy\nhold\nsell\nhold\nhold\nhold\nhold\nbuy\nhold\nhold\nsell\nbuy\nsell\nhold\nbuy\nhold\nhold\nhold\nhold\nsell\nbuy\nhold\nhold\nsell\nbuy\nsell\nhold\nbuy\nhold\nhold\nhold\nsell\nbuy\nhold\nsell\nhold\nhold\nbuy\nhold\nsell\nhold\nhold\nbuy\nsell\nbuy\nsell\nbuy\nsell\nbuy\nhold\nhold\nsell\nbuy\nhold\nhold\nsell\nbuy\nsell\nhold\nbuy\nsell\nbuy\nhold\nsell\nhold\nhold\nhold\nbuy\nhold\nhold\nhold\nhold\nhold\nhold\nhold\nhold\nhold\nsell\nhold\nhold\nbuy\nhold\nsell\nhold\nhold\nhold\nbuy\nhold\nhold\nhold\nhold\nsell\nhold\nhold\nbuy\nsell\nhold\nhold\nhold\nbuy\nhold\nhold\nsell\nbuy\nhold\nhold\nsell\nbuy\nsell\nhold\nhold\nhold\nhold\nbuy\nsell\nbuy\nsell\nhold\nbuy\nhold\nhold\nsell\nhold\nbuy\nsell\nhold\nhold\nbuy\nhold\nhold\nhold\nsell\nhold\nhold\nhold\nhold\nhold\nbuy\nsell\nhold\nbuy\nsell\nhold\nbuy\nhold\nhold\nsell\nbuy\nsell\nbuy\nsell\nbuy\nsell\nhold\nhold\nhold\nhold\nhold\nhold\nhold\nbuy\nhold\nhold\nsell\nhold\nbuy\nhold\nhold\nhold\nhold\nhold\nsell\nhold\nbuy\nsell\nbuy\nhold\nsell\nhold\nhold\nbuy\nhold\nsell\nhold\nbuy\nsell\nbuy\nsell\nhold\nhold\nhold\nbuy\nhold\nhold\nsell\nhold\nhold\nhold\nhold\nhold\nhold\nbuy\nsell\nbuy\nsell\nhold\nbuy\nsell\nhold\nhold\nhold\nbuy\nhold\nhold\nhold\nhold\nsell\nbuy\nhold\nsell\nhold\nbuy\nhold\nsell\nbuy\nsell\nhold\nbuy\nhold\nsell\nhold\nhold\nhold\nhold\nbuy\nhold\nsell\nbuy\nhold\nhold\nhold\nhold\nsell\nbuy\nhold\nsell\nbuy\nsell\nbuy\nhold\nhold\nsell\nhold\nhold\nbuy\nhold\nhold\nsell\nhold\nbuy\nsell\nhold\nbuy\nsell\nhold\nbuy\nsell\nbuy\nhold\nhold\nsell\nbuy\nhold\nsell\nhold\nbuy\nhold\nsell\nhold\nbuy\nsell\nhold\nhold\nhold\nhold\nbuy\nhold\nhold\nhold\nsell\nbuy\nhold\nhold\nsell\nbuy\nsell\nhold\nhold\nhold\nhold\nhold\nbuy\nsell\nbuy\nhold\nhold\nsell\nbuy\nsell\nbuy\nhold\nsell\nbuy\nhold\nhold\nsell\nbuy\nhold\nhold\nhold\nhold\nhold\nhold\nhold\nhold\nsell\nhold\nbuy\nhold\nhold\nsell\nbuy\nsell\nbuy\nhold\nhold\nhold\nsell\nbuy\nhold\nhold\nhold\nsell\nhold\nbuy\nsell\nbuy\nhold\nhold\nsell\nhold\nhold\nbuy\nhold\nhold\nhold\nsell\nhold\nhold\nhold\nhold\nhold\nbuy\nhold\nhold\nhold\nsell\nhold\nhold\nhold\nbuy\nsell\nhold\nbuy\nhold\nsell\nbuy\nsell\nhold\nbuy\nhold\nsell\nbuy\nsell\nbuy\nhold\nhold\nsell\nbuy\nsell\nbuy\nsell\nbuy\nhold\nhold\nhold\nsell\nbuy\nsell\nbuy\nsell\nbuy\nhold\nhold\nhold\nhold\nsell\nhold\nbuy\nhold\nhold\nsell\nhold\nbuy\nhold\nhold\nhold\nhold\nsell\nbuy\nsell\nhold\nbuy\nsell\nhold\nhold\nbuy\nhold\nhold\nsell\nhold\nbuy\nhold\nsell\nhold\nhold\nhold\nbuy\nhold\nhold\nsell\nhold\nbuy\nsell\nbuy\nhold\nhold\nhold\nhold\nsell\nhold\nhold\nhold\nbuy\nhold\nhold\nhold\nhold\nhold\nhold\nhold\nsell\nbuy\nhold\nsell\nbuy\nsell\nhold\nbuy\nhold\nsell\nbuy\nhold\nsell\nhold\nhold\nbuy\nsell\nhold\nhold\nbuy\nhold\nsell\nbuy\nsell\nbuy\nsell\nhold\nbuy\nsell\nbuy\nhold\nsell\nhold\nbuy\nsell\nhold\nhold\nbuy\nsell\nbuy\nhold\nsell\nbuy\nsell\nbuy\nsell\nhold\nhold\nhold\nhold\nbuy\nhold\nhold\nhold\nhold\nsell\nbuy\nhold\nsell\nbuy\nsell\nhold\nhold\nhold\nhold\nbuy\nhold\nhold\nsell\nbuy\nsell\nhold\nbuy\nhold\nsell\nbuy\nhold\nhold\nhold\nsell\nbuy\nsell\nhold\nhold\nhold\nhold\nhold\nhold\nbuy\nsell\nhold\nbuy\nhold\nhold\nhold\nsell\nbuy\nhold\nhold\nhold\nsell\nhold\nbuy\nsell\nhold\nbuy\nsell\nhold\nbuy\nsell\nhold\nbuy\nsell\nbuy\nhold\nsell\nbuy\nhold\nhold\nhold\nhold\nsell\nbuy\nhold\nsell\nbuy\nsell\nbuy\nhold\nhold\nhold\nsell\nhold\nhold\nhold\nhold\nbuy\nsell\nbuy\nhold\nhold\nsell\nhold\nbuy\nhold\nhold\nhold\nhold\nhold\nsell\nbuy\nsell\nbuy\nhold\nhold\nhold\nsell\nbuy\nsell\nbuy\nsell\nbuy\nhold\nsell\nhold\nhold\nhold\nbuy\nsell\nhold\nbuy\nhold\nhold\nsell\nbuy\nsell\nbuy\nhold\nsell\nbuy\nsell\nbuy\nsell\nbuy\nhold\nhold\nsell\nbuy\nsell\nhold\nhold\nhold\nhold\nhold\nbuy\nsell\nhold\nbuy\nsell\nbuy\nsell\nbuy\nhold\nhold\nhold\nhold\nsell\nbuy\nsell\nbuy\nsell\nbuy\nsell\nbuy\nhold\nhold\nhold\nsell\nbuy\nsell\nhold\nhold\nbuy\nhold\nhold\nhold\nhold\nhold\nsell\nbuy\nsell\nbuy\nhold\nsell\nbuy\nhold\nhold\nhold\nhold\nhold\nhold\nsell\nbuy\nhold\nsell\nhold\nbuy\nsell\nhold\nhold\nbuy\nhold\nsell\nhold\nbuy\nhold\nhold\nhold\nsell\nhold\nhold\nbuy\nsell\nbuy\nhold\nhold\nhold\nhold\nsell\nhold\nbuy\nsell\nhold\nhold\nbuy\nsell\nbuy\nsell\nhold\nbuy\nhold\nhold\nhold\nhold\nhold\nhold\nsell\nhold\nhold\nbuy\nhold\nhold\nhold\nhold\nhold\nhold\nsell\nhold\nhold\nbuy\nsell\nbuy\nhold\nsell\nhold\nhold\nbuy\nsell\nhold\nbuy\nhold\nhold\nsell\nhold\nbuy\nsell\nhold\nbuy\nhold\nsell\nbuy\nhold\nhold\nhold\nsell\nhold\nbuy\nsell\nhold\nbuy\nhold\nsell\nhold\nbuy\nsell\nhold\nbuy\nhold\nhold\nsell\nbuy\nhold\nhold\nsell\nbuy\nsell\nhold\nhold\nbuy\nsell\nhold\nhold\nhold\nbuy\nsell\nbuy\nsell\nhold\nhold\nhold\nbuy\nhold\nhold\nhold\nsell\nhold\nhold\nhold\nhold\nbuy\nhold\nsell\nbuy\nhold\nsell\nhold\nhold\nbuy\nhold\nhold\nsell\nbuy\nhold\nsell\nbuy\nsell\nbuy\nsell\nhold\nhold\nhold\nhold\nhold\nhold\nbuy\nsell\nhold\nbuy\nhold\nsell\nbuy\nsell\nbuy\nhold\nhold\nsell\nbuy\nhold\nhold\nsell\nbuy\nhold\nhold\nhold\nsell\nbuy\nhold\nhold\nhold\nsell\nbuy\nsell\nbuy\nhold\nsell\nbuy\nhold\nsell\nhold\nbuy\nsell\nhold\nhold\nbuy\nhold\nhold\nhold\nhold\nhold\nhold\nhold\nhold\nsell\nhold\nbuy\nhold\nsell\nhold\nhold\nhold\nhold\nhold\nbuy\nsell\nhold\nbuy\nsell\nbuy\nhold\nhold\nhold\nsell\nhold\nhold\nbuy\nsell\nhold\nhold\nhold\nhold\nbuy\nsell\nbuy\nhold\nsell\nhold\nbuy\nsell\nhold\nhold\nhold\nbuy\nhold\nsell\nbuy\nhold\nsell\nhold\nbuy\nhold\nsell\nbuy\nsell\nbuy\nhold\nsell\nhold\nhold\nhold\nbuy\nsell\nbuy\nhold\nhold\nsell\nbuy\nhold\nsell\nhold\nhold\nbuy\nsell\nbuy\nhold\nhold\nsell\nbuy\nsell\nbuy\nsell\nhold\nhold\nhold\nhold\nbuy\nhold\nhold\nsell\nhold\nhold\nbuy\nsell\nbuy\nhold\nhold\nhold\nhold\nsell\nbuy\nhold\nhold\nsell\nhold\nhold\nbuy\nhold\nsell\nhold\nhold\n7696550266.817486\n"
    }
   ],
   "source": [
    "\n",
    "Tom=buyer('0052')\n",
    "for i in range(Tom.List_ans.size):\n",
    "    Tom.make_choice(Tom.List_ans[i],float(Tom.List_price[i+18]))\n",
    "print(Tom.total)"
   ]
  },
  {
   "cell_type": "code",
   "execution_count": 10,
   "metadata": {},
   "outputs": [
    {
     "name": "stdout",
     "output_type": "stream",
     "text": "found data [0053.json]at : ./stock_data\nfound data [0053_index.json]at : ./stock_data_index\nbuy\n"
    },
    {
     "data": {
      "image/png": "[encoded data removed]",
      "text/plain": "<PIL.Image.Image image mode=RGB size=19x19 at 0x21BAE525788>"
     },
     "execution_count": 10,
     "metadata": {},
     "output_type": "execute_result"
    }
   ],
   "source": [
    "# test input \n",
    "\n",
    "John=buyer('0053')\n",
    "def cnn_ans():\n",
    "    pass\n",
    "\n",
    "for i in range(19,Bob.List_ans.size-1):\n",
    "    img=John.getImg(i)\n",
    "    ans=cnn_ans()\n",
    "    John.make_choice(John.List_ans[i-18],float(John.List_price[i]))\n",
    "    \n",
    "img\n"
   ]
  },
  {
   "cell_type": "code",
   "execution_count": 13,
   "metadata": {},
   "outputs": [
    {
     "name": "stdout",
     "output_type": "stream",
     "text": "ing9/Graphics-in-Finance/image_output/0053/0/\nhold\nC:/Users/zing9/Graphics-in-Finance/image_output/0053/0/\nhold\nC:/Users/zing9/Graphics-in-Finance/image_output/0053/0/\nhold\nC:/Users/zing9/Graphics-in-Finance/image_output/0053/-1/\nsell\nC:/Users/zing9/Graphics-in-Finance/image_output/0053/1/\nbuy\nC:/Users/zing9/Graphics-in-Finance/image_output/0053/0/\nhold\nC:/Users/zing9/Graphics-in-Finance/image_output/0053/0/\nhold\nC:/Users/zing9/Graphics-in-Finance/image_output/0053/0/\nhold\nC:/Users/zing9/Graphics-in-Finance/image_output/0053/0/\nhold\nC:/Users/zing9/Graphics-in-Finance/image_output/0053/-1/\nsell\nC:/Users/zing9/Graphics-in-Finance/image_output/0053/0/\nhold\nC:/Users/zing9/Graphics-in-Finance/image_output/0053/1/\nbuy\nC:/Users/zing9/Graphics-in-Finance/image_output/0053/0/\nhold\nC:/Users/zing9/Graphics-in-Finance/image_output/0053/0/\nhold\nC:/Users/zing9/Graphics-in-Finance/image_output/0053/-1/\nsell\nC:/Users/zing9/Graphics-in-Finance/image_output/0053/0/\nhold\nC:/Users/zing9/Graphics-in-Finance/image_output/0053/0/\nhold\nC:/Users/zing9/Graphics-in-Finance/image_output/0053/1/\nbuy\nC:/Users/zing9/Graphics-in-Finance/image_output/0053/0/\nhold\nC:/Users/zing9/Graphics-in-Finance/image_output/0053/0/\nhold\nC:/Users/zing9/Graphics-in-Finance/image_output/0053/-1/\nsell\nC:/Users/zing9/Graphics-in-Finance/image_output/0053/1/\nbuy\nC:/Users/zing9/Graphics-in-Finance/image_output/0053/-1/\nsell\nC:/Users/zing9/Graphics-in-Finance/image_output/0053/-1/\nhold\nC:/Users/zing9/Graphics-in-Finance/image_output/0053/1/\nbuy\nC:/Users/zing9/Graphics-in-Finance/image_output/0053/-1/\nsell\nC:/Users/zing9/Graphics-in-Finance/image_output/0053/0/\nhold\nC:/Users/zing9/Graphics-in-Finance/image_output/0053/0/\nhold\nC:/Users/zing9/Graphics-in-Finance/image_output/0053/0/\nhold\nC:/Users/zing9/Graphics-in-Finance/image_output/0053/1/\nbuy\nC:/Users/zing9/Graphics-in-Finance/image_output/0053/-1/\nsell\nC:/Users/zing9/Graphics-in-Finance/image_output/0053/1/\nbuy\nC:/Users/zing9/Graphics-in-Finance/image_output/0053/0/\nhold\nC:/Users/zing9/Graphics-in-Finance/image_output/0053/-1/\nsell\nC:/Users/zing9/Graphics-in-Finance/image_output/0053/0/\nhold\nC:/Users/zing9/Graphics-in-Finance/image_output/0053/1/\nbuy\nC:/Users/zing9/Graphics-in-Finance/image_output/0053/-1/\nsell\nC:/Users/zing9/Graphics-in-Finance/image_output/0053/0/\nhold\nC:/Users/zing9/Graphics-in-Finance/image_output/0053/0/\nhold\nC:/Users/zing9/Graphics-in-Finance/image_output/0053/0/\nhold\nC:/Users/zing9/Graphics-in-Finance/image_output/0053/0/\nhold\nC:/Users/zing9/Graphics-in-Finance/image_output/0053/0/\nhold\nC:/Users/zing9/Graphics-in-Finance/image_output/0053/0/\nhold\nC:/Users/zing9/Graphics-in-Finance/image_output/0053/1/\nbuy\nC:/Users/zing9/Graphics-in-Finance/image_output/0053/-1/\nsell\nC:/Users/zing9/Graphics-in-Finance/image_output/0053/0/\nhold\nC:/Users/zing9/Graphics-in-Finance/image_output/0053/0/\nhold\nC:/Users/zing9/Graphics-in-Finance/image_output/0053/1/\nbuy\nC:/Users/zing9/Graphics-in-Finance/image_output/0053/0/\nhold\nC:/Users/zing9/Graphics-in-Finance/image_output/0053/-1/\nsell\nC:/Users/zing9/Graphics-in-Finance/image_output/0053/0/\nhold\nC:/Users/zing9/Graphics-in-Finance/image_output/0053/1/\nbuy\nC:/Users/zing9/Graphics-in-Finance/image_output/0053/-1/\nsell\nC:/Users/zing9/Graphics-in-Finance/image_output/0053/0/\nhold\nC:/Users/zing9/Graphics-in-Finance/image_output/0053/0/\nhold\nC:/Users/zing9/Graphics-in-Finance/image_output/0053/1/\nbuy\nC:/Users/zing9/Graphics-in-Finance/image_output/0053/0/\nhold\nC:/Users/zing9/Graphics-in-Finance/image_output/0053/-1/\nsell\nC:/Users/zing9/Graphics-in-Finance/image_output/0053/0/\nhold\nC:/Users/zing9/Graphics-in-Finance/image_output/0053/1/\nbuy\nC:/Users/zing9/Graphics-in-Finance/image_output/0053/-1/\nsell\nC:/Users/zing9/Graphics-in-Finance/image_output/0053/1/\nbuy\nC:/Users/zing9/Graphics-in-Finance/image_output/0053/0/\nhold\nC:/Users/zing9/Graphics-in-Finance/image_output/0053/0/\nhold\nC:/Users/zing9/Graphics-in-Finance/image_output/0053/0/\nhold\nC:/Users/zing9/Graphics-in-Finance/image_output/0053/0/\nhold\nC:/Users/zing9/Graphics-in-Finance/image_output/0053/0/\nhold\nC:/Users/zing9/Graphics-in-Finance/image_output/0053/0/\nhold\nC:/Users/zing9/Graphics-in-Finance/image_output/0053/-1/\nsell\nC:/Users/zing9/Graphics-in-Finance/image_output/0053/0/\nhold\nC:/Users/zing9/Graphics-in-Finance/image_output/0053/1/\nbuy\nC:/Users/zing9/Graphics-in-Finance/image_output/0053/0/\nhold\nC:/Users/zing9/Graphics-in-Finance/image_output/0053/0/\nhold\nC:/Users/zing9/Graphics-in-Finance/image_output/0053/0/\nhold\nC:/Users/zing9/Graphics-in-Finance/image_output/0053/0/\nhold\nC:/Users/zing9/Graphics-in-Finance/image_output/0053/0/\nhold\nC:/Users/zing9/Graphics-in-Finance/image_output/0053/0/\nhold\nC:/Users/zing9/Graphics-in-Finance/image_output/0053/0/\nhold\nC:/Users/zing9/Graphics-in-Finance/image_output/0053/0/\nhold\nC:/Users/zing9/Graphics-in-Finance/image_output/0053/-1/\nsell\nC:/Users/zing9/Graphics-in-Finance/image_output/0053/1/\nbuy\nC:/Users/zing9/Graphics-in-Finance/image_output/0053/-1/\nsell\nC:/Users/zing9/Graphics-in-Finance/image_output/0053/1/\nbuy\nC:/Users/zing9/Graphics-in-Finance/image_output/0053/0/\nhold\nC:/Users/zing9/Graphics-in-Finance/image_output/0053/-1/\nsell\nC:/Users/zing9/Graphics-in-Finance/image_output/0053/0/\nhold\nC:/Users/zing9/Graphics-in-Finance/image_output/0053/0/\nhold\nC:/Users/zing9/Graphics-in-Finance/image_output/0053/0/\nhold\nC:/Users/zing9/Graphics-in-Finance/image_output/0053/1/\nbuy\nC:/Users/zing9/Graphics-in-Finance/image_output/0053/-1/\nsell\nC:/Users/zing9/Graphics-in-Finance/image_output/0053/0/\nhold\nC:/Users/zing9/Graphics-in-Finance/image_output/0053/1/\nbuy\nC:/Users/zing9/Graphics-in-Finance/image_output/0053/0/\nhold\nC:/Users/zing9/Graphics-in-Finance/image_output/0053/-1/\nsell\nC:/Users/zing9/Graphics-in-Finance/image_output/0053/1/\nbuy\nC:/Users/zing9/Graphics-in-Finance/image_output/0053/0/\nhold\nC:/Users/zing9/Graphics-in-Finance/image_output/0053/0/\nhold\nC:/Users/zing9/Graphics-in-Finance/image_output/0053/-1/\nsell\nC:/Users/zing9/Graphics-in-Finance/image_output/0053/0/\nhold\nC:/Users/zing9/Graphics-in-Finance/image_output/0053/1/\nbuy\nC:/Users/zing9/Graphics-in-Finance/image_output/0053/0/\nhold\nC:/Users/zing9/Graphics-in-Finance/image_output/0053/0/\nhold\nC:/Users/zing9/Graphics-in-Finance/image_output/0053/0/\nhold\nC:/Users/zing9/Graphics-in-Finance/image_output/0053/0/\nhold\nC:/Users/zing9/Graphics-in-Finance/image_output/0053/0/\nhold\nC:/Users/zing9/Graphics-in-Finance/image_output/0053/0/\nhold\nC:/Users/zing9/Graphics-in-Finance/image_output/0053/-1/\nsell\nC:/Users/zing9/Graphics-in-Finance/image_output/0053/0/\nhold\nC:/Users/zing9/Graphics-in-Finance/image_output/0053/0/\nhold\nC:/Users/zing9/Graphics-in-Finance/image_output/0053/1/\nbuy\nC:/Users/zing9/Graphics-in-Finance/image_output/0053/0/\nhold\nC:/Users/zing9/Graphics-in-Finance/image_output/0053/-1/\nsell\nC:/Users/zing9/Graphics-in-Finance/image_output/0053/1/\nbuy\nC:/Users/zing9/Graphics-in-Finance/image_output/0053/-1/\nsell\nC:/Users/zing9/Graphics-in-Finance/image_output/0053/0/\nhold\nC:/Users/zing9/Graphics-in-Finance/image_output/0053/1/\nbuy\nC:/Users/zing9/Graphics-in-Finance/image_output/0053/-1/\nsell\nC:/Users/zing9/Graphics-in-Finance/image_output/0053/0/\nhold\nC:/Users/zing9/Graphics-in-Finance/image_output/0053/1/\nbuy\nC:/Users/zing9/Graphics-in-Finance/image_output/0053/-1/\nsell\nC:/Users/zing9/Graphics-in-Finance/image_output/0053/1/\nbuy\nC:/Users/zing9/Graphics-in-Finance/image_output/0053/-1/\nsell\nC:/Users/zing9/Graphics-in-Finance/image_output/0053/1/\nbuy\nC:/Users/zing9/Graphics-in-Finance/image_output/0053/0/\nhold\nC:/Users/zing9/Graphics-in-Finance/image_output/0053/0/\nhold\nC:/Users/zing9/Graphics-in-Finance/image_output/0053/-1/\nsell\nC:/Users/zing9/Graphics-in-Finance/image_output/0053/1/\nbuy\nC:/Users/zing9/Graphics-in-Finance/image_output/0053/-1/\nsell\nC:/Users/zing9/Graphics-in-Finance/image_output/0053/0/\nhold\nC:/Users/zing9/Graphics-in-Finance/image_output/0053/0/\nhold\nC:/Users/zing9/Graphics-in-Finance/image_output/0053/1/\nbuy\nC:/Users/zing9/Graphics-in-Finance/image_output/0053/-1/\nsell\nC:/Users/zing9/Graphics-in-Finance/image_output/0053/0/\nhold\nC:/Users/zing9/Graphics-in-Finance/image_output/0053/0/\nhold\nC:/Users/zing9/Graphics-in-Finance/image_output/0053/0/\nhold\nC:/Users/zing9/Graphics-in-Finance/image_output/0053/0/\nhold\nC:/Users/zing9/Graphics-in-Finance/image_output/0053/1/\nbuy\nC:/Users/zing9/Graphics-in-Finance/image_output/0053/0/\nhold\nC:/Users/zing9/Graphics-in-Finance/image_output/0053/0/\nhold\nC:/Users/zing9/Graphics-in-Finance/image_output/0053/-1/\nsell\nC:/Users/zing9/Graphics-in-Finance/image_output/0053/1/\nbuy\nC:/Users/zing9/Graphics-in-Finance/image_output/0053/0/\nhold\nC:/Users/zing9/Graphics-in-Finance/image_output/0053/0/\nhold\nC:/Users/zing9/Graphics-in-Finance/image_output/0053/0/\nhold\nC:/Users/zing9/Graphics-in-Finance/image_output/0053/0/\nhold\nC:/Users/zing9/Graphics-in-Finance/image_output/0053/0/\nhold\nC:/Users/zing9/Graphics-in-Finance/image_output/0053/0/\nhold\nC:/Users/zing9/Graphics-in-Finance/image_output/0053/-1/\nsell\nC:/Users/zing9/Graphics-in-Finance/image_output/0053/0/\nhold\nC:/Users/zing9/Graphics-in-Finance/image_output/0053/0/\nhold\nC:/Users/zing9/Graphics-in-Finance/image_output/0053/0/\nhold\nC:/Users/zing9/Graphics-in-Finance/image_output/0053/1/\nbuy\nC:/Users/zing9/Graphics-in-Finance/image_output/0053/0/\nhold\nC:/Users/zing9/Graphics-in-Finance/image_output/0053/-1/\nsell\nC:/Users/zing9/Graphics-in-Finance/image_output/0053/1/\nbuy\nC:/Users/zing9/Graphics-in-Finance/image_output/0053/0/\nhold\nC:/Users/zing9/Graphics-in-Finance/image_output/0053/0/\nhold\nC:/Users/zing9/Graphics-in-Finance/image_output/0053/-1/\nsell\nC:/Users/zing9/Graphics-in-Finance/image_output/0053/0/\nhold\nC:/Users/zing9/Graphics-in-Finance/image_output/0053/1/\nbuy\nC:/Users/zing9/Graphics-in-Finance/image_output/0053/0/\nhold\nC:/Users/zing9/Graphics-in-Finance/image_output/0053/0/\nhold\nC:/Users/zing9/Graphics-in-Finance/image_output/0053/-1/\nsell\nC:/Users/zing9/Graphics-in-Finance/image_output/0053/1/\nbuy\nC:/Users/zing9/Graphics-in-Finance/image_output/0053/0/\nhold\nC:/Users/zing9/Graphics-in-Finance/image_output/0053/-1/\nsell\nC:/Users/zing9/Graphics-in-Finance/image_output/0053/0/\nhold\nC:/Users/zing9/Graphics-in-Finance/image_output/0053/0/\nhold\nC:/Users/zing9/Graphics-in-Finance/image_output/0053/1/\nbuy\nC:/Users/zing9/Graphics-in-Finance/image_output/0053/-1/\nsell\nC:/Users/zing9/Graphics-in-Finance/image_output/0053/0/\nhold\nC:/Users/zing9/Graphics-in-Finance/image_output/0053/0/\nhold\nC:/Users/zing9/Graphics-in-Finance/image_output/0053/0/\nhold\nC:/Users/zing9/Graphics-in-Finance/image_output/0053/1/\nbuy\nC:/Users/zing9/Graphics-in-Finance/image_output/0053/-1/\nsell\nC:/Users/zing9/Graphics-in-Finance/image_output/0053/0/\nhold\nC:/Users/zing9/Graphics-in-Finance/image_output/0053/0/\nhold\nC:/Users/zing9/Graphics-in-Finance/image_output/0053/1/\nbuy\nC:/Users/zing9/Graphics-in-Finance/image_output/0053/-1/\nsell\nC:/Users/zing9/Graphics-in-Finance/image_output/0053/1/\nbuy\nC:/Users/zing9/Graphics-in-Finance/image_output/0053/0/\nhold\nC:/Users/zing9/Graphics-in-Finance/image_output/0053/-1/\nsell\nC:/Users/zing9/Graphics-in-Finance/image_output/0053/1/\nbuy\nC:/Users/zing9/Graphics-in-Finance/image_output/0053/-1/\nsell\nC:/Users/zing9/Graphics-in-Finance/image_output/0053/1/\nbuy\nC:/Users/zing9/Graphics-in-Finance/image_output/0053/0/\nhold\nC:/Users/zing9/Graphics-in-Finance/image_output/0053/0/\nhold\nC:/Users/zing9/Graphics-in-Finance/image_output/0053/-1/\nsell\nC:/Users/zing9/Graphics-in-Finance/image_output/0053/1/\nbuy\nC:/Users/zing9/Graphics-in-Finance/image_output/0053/0/\nhold\nC:/Users/zing9/Graphics-in-Finance/image_output/0053/0/\nhold\nC:/Users/zing9/Graphics-in-Finance/image_output/0053/-1/\nsell\nC:/Users/zing9/Graphics-in-Finance/image_output/0053/1/\nbuy\nC:/Users/zing9/Graphics-in-Finance/image_output/0053/0/\nhold\nC:/Users/zing9/Graphics-in-Finance/image_output/0053/0/\nhold\nC:/Users/zing9/Graphics-in-Finance/image_output/0053/0/\nhold\nC:/Users/zing9/Graphics-in-Finance/image_output/0053/0/\nhold\nC:/Users/zing9/Graphics-in-Finance/image_output/0053/0/\nhold\nC:/Users/zing9/Graphics-in-Finance/image_output/0053/0/\nhold\nC:/Users/zing9/Graphics-in-Finance/image_output/0053/0/\nhold\nC:/Users/zing9/Graphics-in-Finance/image_output/0053/0/\nhold\nC:/Users/zing9/Graphics-in-Finance/image_output/0053/-1/\nsell\nC:/Users/zing9/Graphics-in-Finance/image_output/0053/1/\nbuy\nC:/Users/zing9/Graphics-in-Finance/image_output/0053/-1/\nsell\nC:/Users/zing9/Graphics-in-Finance/image_output/0053/1/\nbuy\nC:/Users/zing9/Graphics-in-Finance/image_output/0053/-1/\nsell\nC:/Users/zing9/Graphics-in-Finance/image_output/0053/0/\nhold\nC:/Users/zing9/Graphics-in-Finance/image_output/0053/1/\nbuy\nC:/Users/zing9/Graphics-in-Finance/image_output/0053/-1/\nsell\nC:/Users/zing9/Graphics-in-Finance/image_output/0053/0/\nhold\nC:/Users/zing9/Graphics-in-Finance/image_output/0053/0/\nhold\nC:/Users/zing9/Graphics-in-Finance/image_output/0053/1/\nbuy\nC:/Users/zing9/Graphics-in-Finance/image_output/0053/-1/\nsell\nC:/Users/zing9/Graphics-in-Finance/image_output/0053/0/\nhold\nC:/Users/zing9/Graphics-in-Finance/image_output/0053/1/\nbuy\nC:/Users/zing9/Graphics-in-Finance/image_output/0053/-1/\nsell\nC:/Users/zing9/Graphics-in-Finance/image_output/0053/1/\nbuy\nC:/Users/zing9/Graphics-in-Finance/image_output/0053/0/\nhold\nC:/Users/zing9/Graphics-in-Finance/image_output/0053/-1/\nsell\nC:/Users/zing9/Graphics-in-Finance/image_output/0053/1/\nbuy\nC:/Users/zing9/Graphics-in-Finance/image_output/0053/1/\nhold\nC:/Users/zing9/Graphics-in-Finance/image_output/0053/0/\nhold\nC:/Users/zing9/Graphics-in-Finance/image_output/0053/0/\nhold\nC:/Users/zing9/Graphics-in-Finance/image_output/0053/0/\nhold\nC:/Users/zing9/Graphics-in-Finance/image_output/0053/-1/\nsell\nC:/Users/zing9/Graphics-in-Finance/image_output/0053/1/\nbuy\nC:/Users/zing9/Graphics-in-Finance/image_output/0053/-1/\nsell\nC:/Users/zing9/Graphics-in-Finance/image_output/0053/1/\nbuy\nC:/Users/zing9/Graphics-in-Finance/image_output/0053/-1/\nsell\nC:/Users/zing9/Graphics-in-Finance/image_output/0053/0/\nhold\nC:/Users/zing9/Graphics-in-Finance/image_output/0053/0/\nhold\nC:/Users/zing9/Graphics-in-Finance/image_output/0053/0/\nhold\nC:/Users/zing9/Graphics-in-Finance/image_output/0053/0/\nhold\nC:/Users/zing9/Graphics-in-Finance/image_output/0053/0/\nhold\nC:/Users/zing9/Graphics-in-Finance/image_output/0053/1/\nbuy\nC:/Users/zing9/Graphics-in-Finance/image_output/0053/-1/\nsell\nC:/Users/zing9/Graphics-in-Finance/image_output/0053/0/\nhold\nC:/Users/zing9/Graphics-in-Finance/image_output/0053/1/\nbuy\nC:/Users/zing9/Graphics-in-Finance/image_output/0053/-1/\nsell\nC:/Users/zing9/Graphics-in-Finance/image_output/0053/1/\nbuy\nC:/Users/zing9/Graphics-in-Finance/image_output/0053/1/\nhold\nC:/Users/zing9/Graphics-in-Finance/image_output/0053/-1/\nsell\nC:/Users/zing9/Graphics-in-Finance/image_output/0053/1/\nbuy\nC:/Users/zing9/Graphics-in-Finance/image_output/0053/-1/\nsell\nC:/Users/zing9/Graphics-in-Finance/image_output/0053/1/\nbuy\nC:/Users/zing9/Graphics-in-Finance/image_output/0053/-1/\nsell\nC:/Users/zing9/Graphics-in-Finance/image_output/0053/0/\nhold\nC:/Users/zing9/Graphics-in-Finance/image_output/0053/0/\nhold\nC:/Users/zing9/Graphics-in-Finance/image_output/0053/0/\nhold\nC:/Users/zing9/Graphics-in-Finance/image_output/0053/0/\nhold\nC:/Users/zing9/Graphics-in-Finance/image_output/0053/1/\nbuy\nC:/Users/zing9/Graphics-in-Finance/image_output/0053/-1/\nsell\nC:/Users/zing9/Graphics-in-Finance/image_output/0053/1/\nbuy\nC:/Users/zing9/Graphics-in-Finance/image_output/0053/-1/\nsell\nC:/Users/zing9/Graphics-in-Finance/image_output/0053/1/\nbuy\nC:/Users/zing9/Graphics-in-Finance/image_output/0053/0/\nhold\nC:/Users/zing9/Graphics-in-Finance/image_output/0053/-1/\nsell\nC:/Users/zing9/Graphics-in-Finance/image_output/0053/0/\nhold\nC:/Users/zing9/Graphics-in-Finance/image_output/0053/1/\nbuy\nC:/Users/zing9/Graphics-in-Finance/image_output/0053/-1/\nsell\nC:/Users/zing9/Graphics-in-Finance/image_output/0053/1/\nbuy\nC:/Users/zing9/Graphics-in-Finance/image_output/0053/-1/\nsell\nC:/Users/zing9/Graphics-in-Finance/image_output/0053/0/\nhold\nC:/Users/zing9/Graphics-in-Finance/image_output/0053/0/\nhold\nC:/Users/zing9/Graphics-in-Finance/image_output/0053/1/\nbuy\nC:/Users/zing9/Graphics-in-Finance/image_output/0053/0/\nhold\nC:/Users/zing9/Graphics-in-Finance/image_output/0053/0/\nhold\nC:/Users/zing9/Graphics-in-Finance/image_output/0053/-1/\nsell\nC:/Users/zing9/Graphics-in-Finance/image_output/0053/0/\nhold\nC:/Users/zing9/Graphics-in-Finance/image_output/0053/0/\nhold\nC:/Users/zing9/Graphics-in-Finance/image_output/0053/1/\nbuy\nC:/Users/zing9/Graphics-in-Finance/image_output/0053/0/\nhold\nC:/Users/zing9/Graphics-in-Finance/image_output/0053/-1/\nsell\nC:/Users/zing9/Graphics-in-Finance/image_output/0053/1/\nbuy\nC:/Users/zing9/Graphics-in-Finance/image_output/0053/-1/\nsell\nC:/Users/zing9/Graphics-in-Finance/image_output/0053/1/\nbuy\nC:/Users/zing9/Graphics-in-Finance/image_output/0053/0/\nhold\nC:/Users/zing9/Graphics-in-Finance/image_output/0053/-1/\nsell\nC:/Users/zing9/Graphics-in-Finance/image_output/0053/0/\nhold\nC:/Users/zing9/Graphics-in-Finance/image_output/0053/0/\nhold\nC:/Users/zing9/Graphics-in-Finance/image_output/0053/1/\nbuy\nC:/Users/zing9/Graphics-in-Finance/image_output/0053/-1/\nsell\nC:/Users/zing9/Graphics-in-Finance/image_output/0053/0/\nhold\nC:/Users/zing9/Graphics-in-Finance/image_output/0053/1/\nbuy\nC:/Users/zing9/Graphics-in-Finance/image_output/0053/0/\nhold\nC:/Users/zing9/Graphics-in-Finance/image_output/0053/0/\nhold\nC:/Users/zing9/Graphics-in-Finance/image_output/0053/0/\nhold\nC:/Users/zing9/Graphics-in-Finance/image_output/0053/-1/\nsell\nC:/Users/zing9/Graphics-in-Finance/image_output/0053/1/\nbuy\nC:/Users/zing9/Graphics-in-Finance/image_output/0053/-1/\nsell\nC:/Users/zing9/Graphics-in-Finance/image_output/0053/0/\nhold\nC:/Users/zing9/Graphics-in-Finance/image_output/0053/0/\nhold\nC:/Users/zing9/Graphics-in-Finance/image_output/0053/1/\nbuy\nC:/Users/zing9/Graphics-in-Finance/image_output/0053/-1/\nsell\nC:/Users/zing9/Graphics-in-Finance/image_output/0053/1/\nbuy\nC:/Users/zing9/Graphics-in-Finance/image_output/0053/0/\nhold\nC:/Users/zing9/Graphics-in-Finance/image_output/0053/0/\nhold\nC:/Users/zing9/Graphics-in-Finance/image_output/0053/-1/\nsell\nC:/Users/zing9/Graphics-in-Finance/image_output/0053/1/\nbuy\nC:/Users/zing9/Graphics-in-Finance/image_output/0053/-1/\nsell\nC:/Users/zing9/Graphics-in-Finance/image_output/0053/1/\nbuy\nC:/Users/zing9/Graphics-in-Finance/image_output/0053/-1/\nsell\nC:/Users/zing9/Graphics-in-Finance/image_output/0053/0/\nhold\nC:/Users/zing9/Graphics-in-Finance/image_output/0053/0/\nhold\nC:/Users/zing9/Graphics-in-Finance/image_output/0053/1/\nbuy\nC:/Users/zing9/Graphics-in-Finance/image_output/0053/-1/\nsell\nC:/Users/zing9/Graphics-in-Finance/image_output/0053/1/\nbuy\nC:/Users/zing9/Graphics-in-Finance/image_output/0053/0/\nhold\nC:/Users/zing9/Graphics-in-Finance/image_output/0053/0/\nhold\nC:/Users/zing9/Graphics-in-Finance/image_output/0053/0/\nhold\nC:/Users/zing9/Graphics-in-Finance/image_output/0053/-1/\nsell\nC:/Users/zing9/Graphics-in-Finance/image_output/0053/0/\nhold\nC:/Users/zing9/Graphics-in-Finance/image_output/0053/1/\nbuy\nC:/Users/zing9/Graphics-in-Finance/image_output/0053/-1/\nsell\nC:/Users/zing9/Graphics-in-Finance/image_output/0053/1/\nbuy\nC:/Users/zing9/Graphics-in-Finance/image_output/0053/0/\nhold\nC:/Users/zing9/Graphics-in-Finance/image_output/0053/-1/\nsell\nC:/Users/zing9/Graphics-in-Finance/image_output/0053/1/\nbuy\nC:/Users/zing9/Graphics-in-Finance/image_output/0053/0/\nhold\nC:/Users/zing9/Graphics-in-Finance/image_output/0053/0/\nhold\nC:/Users/zing9/Graphics-in-Finance/image_output/0053/0/\nhold\nC:/Users/zing9/Graphics-in-Finance/image_output/0053/0/\nhold\nC:/Users/zing9/Graphics-in-Finance/image_output/0053/-1/\nsell\nC:/Users/zing9/Graphics-in-Finance/image_output/0053/1/\nbuy\nC:/Users/zing9/Graphics-in-Finance/image_output/0053/0/\nhold\nC:/Users/zing9/Graphics-in-Finance/image_output/0053/0/\nhold\nC:/Users/zing9/Graphics-in-Finance/image_output/0053/-1/\nsell\nC:/Users/zing9/Graphics-in-Finance/image_output/0053/0/\nhold\n"
    }
   ],
   "source": [
    "# test input \n",
    "\n",
    "Bob=buyer('0053')\n",
    "Bob.min_maxdf\n",
    "\n",
    "for i in range(19,Bob.List_ans.size-1):\n",
    "    img=Bob.saveImg(i)\n",
    "    Bob.make_choice(Bob.List_ans[i],float(Bob.List_price[i]))\n",
    "\n"
   ]
  }
 ],
 "metadata": {
  "kernelspec": {
   "display_name": "Python 3",
   "language": "python",
   "name": "python3"
  },
  "language_info": {
   "codemirror_mode": {
    "name": "ipython",
    "version": 3
   },
   "file_extension": ".py",
   "mimetype": "text/x-python",
   "name": "python",
   "nbconvert_exporter": "python",
   "pygments_lexer": "ipython3",
   "version": "3.7.5"
  }
 },
 "nbformat": 4,
 "nbformat_minor": 2
}