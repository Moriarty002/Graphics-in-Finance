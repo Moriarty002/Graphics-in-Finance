{
 "cells": [
  {
   "cell_type": "code",
   "execution_count": 11,
   "metadata": {},
   "outputs": [],
   "source": [
    "class buyer():\n",
    "    state = 0\n",
    "    fund = 2000000\n",
    "    stock = 0\n",
    "    total = fund + stock\n",
    "    fnum = 0\n",
    "    def __init__(self,fnum):\n",
    "        self.fnum=fnum\n",
    "    def buystock(self,price):\n",
    "        self.stock=(self.fund/1.003)/price\n",
    "        self.fund=0\n",
    "        self.total=self.fund+(self.stock*price)\n",
    "        self.state=1\n",
    "        print(\"buy\")\n",
    "    def selstock(self,price):   \n",
    "        self.fund=self.stock*price*0.997\n",
    "        self.stock=0\n",
    "        self.total=self.fund+(self.stock*price)\n",
    "        self.state=0\n",
    "        print(\"sell\")\n",
    "    def holstock(self,price):\n",
    "        self.total=self.fund+(self.stock*price)\n",
    "        print(\"hold\")\n",
    "    def make_choice(self,inp,price):\n",
    "        if (self.state==0 and inp==1):\n",
    "            self.buystock(price)\n",
    "        elif(self.state==1 and inp==-1):\n",
    "            self.selstock(price)\n",
    "        else :\n",
    "            self.holstock(price)      "
   ]
  },
  {
   "cell_type": "code",
   "execution_count": 12,
   "metadata": {},
   "outputs": [
    {
     "name": "stdout",
     "output_type": "stream",
     "text": [
      "buy\n",
      "hold\n",
      "sell\n",
      "9940179.461615155\n"
     ]
    }
   ],
   "source": [
    "Tom=buyer('0050')\n",
    "Tom.make_choice(1,20)\n",
    "Tom.make_choice(0,21)\n",
    "Tom.make_choice(-1,100)\n",
    "print(Tom.total)"
   ]
  }
 ],
 "metadata": {
  "kernelspec": {
   "display_name": "Python 3",
   "language": "python",
   "name": "python3"
  },
  "language_info": {
   "codemirror_mode": {
    "name": "ipython",
    "version": 3
   },
   "file_extension": ".py",
   "mimetype": "text/x-python",
   "name": "python",
   "nbconvert_exporter": "python",
   "pygments_lexer": "ipython3",
   "version": "3.7.3"
  }
 },
 "nbformat": 4,
 "nbformat_minor": 2
}
